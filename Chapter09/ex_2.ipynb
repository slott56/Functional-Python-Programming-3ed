{
 "cells": [
  {
   "cell_type": "markdown",
   "id": "724f1731-f93c-4db1-bfbf-585242a67d14",
   "metadata": {},
   "source": [
    "Functional Python Programming 3e\n",
    "\n",
    "Chapter 9, Example Set 2\n",
    "\n",
    "See https://utw11041.utweb.utexas.edu/ORMM/models/unit/combinatorics/permute.html\n",
    "for an example this is based on."
   ]
  },
  {
   "cell_type": "code",
   "execution_count": 1,
   "id": "1b42432c-6890-4898-ac22-20a4a2006898",
   "metadata": {},
   "outputs": [],
   "source": [
    "import csv\n",
    "import io"
   ]
  },
  {
   "cell_type": "markdown",
   "id": "01c67809-4e74-48d7-b796-7291df2c3922",
   "metadata": {},
   "source": [
    "Cost data with Agent and Task identification."
   ]
  },
  {
   "cell_type": "code",
   "execution_count": 2,
   "id": "5327c6b1-8d8a-4a01-a129-03a0133cffbf",
   "metadata": {},
   "outputs": [],
   "source": [
    "cost_data = \"\"\"\\\n",
    ",A_0,A_1,A_2,A_3,A_4,A_5,A_6\n",
    "T_0,14,11,6,20,12,9,4\n",
    "T_1,15,28,34,4,12,24,21\n",
    "T_2,16,31,22,18,31,15,23\n",
    "T_3,20,18,9,15,30,4,18\n",
    "T_4,24,8,24,30,28,25,4\n",
    "T_5,3,23,22,11,5,30,5\n",
    "T_6,13,7,5,10,7,7,32\n",
    "\"\"\""
   ]
  },
  {
   "cell_type": "markdown",
   "id": "6342f9bc-0068-4523-a67a-6c25fb06faaa",
   "metadata": {},
   "source": [
    "Extract the Agents, Tasks, and cost from the matrix."
   ]
  },
  {
   "cell_type": "code",
   "execution_count": 3,
   "id": "63a96ef3-6c03-4dcf-8376-f39d657fc006",
   "metadata": {},
   "outputs": [],
   "source": [
    "def get_cost_matrix() -> dict[tuple[str, str], int]:\n",
    "    with io.StringIO(cost_data) as source:\n",
    "        rdr = csv.reader(source)\n",
    "        # Row 1 has Agents\n",
    "        header = next(rdr)\n",
    "        empty, agents = header[0], header[1:]\n",
    "        # Remaining rows have Tasks and Costs\n",
    "        task_costs = list((row[0], row[1:]) for row in rdr)\n",
    "        tasks = list(task_name for task_name, _ in task_costs)\n",
    "        # Cost \"matrix\" maps task,agent to cost\n",
    "        cost = {\n",
    "            (agents[a], task_name): int(agent_costs[a])\n",
    "            for task_name, agent_costs in task_costs\n",
    "            for a in range(len(agents))\n",
    "        }\n",
    "    return agents, tasks, cost"
   ]
  },
  {
   "cell_type": "code",
   "execution_count": 4,
   "id": "f5620d8f-56a9-4822-a395-8bee96301e53",
   "metadata": {},
   "outputs": [
    {
     "data": {
      "text/plain": [
       "{('A_0', 'T_0'): 14,\n",
       " ('A_1', 'T_0'): 11,\n",
       " ('A_2', 'T_0'): 6,\n",
       " ('A_3', 'T_0'): 20,\n",
       " ('A_4', 'T_0'): 12,\n",
       " ('A_5', 'T_0'): 9,\n",
       " ('A_6', 'T_0'): 4,\n",
       " ('A_0', 'T_1'): 15,\n",
       " ('A_1', 'T_1'): 28,\n",
       " ('A_2', 'T_1'): 34,\n",
       " ('A_3', 'T_1'): 4,\n",
       " ('A_4', 'T_1'): 12,\n",
       " ('A_5', 'T_1'): 24,\n",
       " ('A_6', 'T_1'): 21,\n",
       " ('A_0', 'T_2'): 16,\n",
       " ('A_1', 'T_2'): 31,\n",
       " ('A_2', 'T_2'): 22,\n",
       " ('A_3', 'T_2'): 18,\n",
       " ('A_4', 'T_2'): 31,\n",
       " ('A_5', 'T_2'): 15,\n",
       " ('A_6', 'T_2'): 23,\n",
       " ('A_0', 'T_3'): 20,\n",
       " ('A_1', 'T_3'): 18,\n",
       " ('A_2', 'T_3'): 9,\n",
       " ('A_3', 'T_3'): 15,\n",
       " ('A_4', 'T_3'): 30,\n",
       " ('A_5', 'T_3'): 4,\n",
       " ('A_6', 'T_3'): 18,\n",
       " ('A_0', 'T_4'): 24,\n",
       " ('A_1', 'T_4'): 8,\n",
       " ('A_2', 'T_4'): 24,\n",
       " ('A_3', 'T_4'): 30,\n",
       " ('A_4', 'T_4'): 28,\n",
       " ('A_5', 'T_4'): 25,\n",
       " ('A_6', 'T_4'): 4,\n",
       " ('A_0', 'T_5'): 3,\n",
       " ('A_1', 'T_5'): 23,\n",
       " ('A_2', 'T_5'): 22,\n",
       " ('A_3', 'T_5'): 11,\n",
       " ('A_4', 'T_5'): 5,\n",
       " ('A_5', 'T_5'): 30,\n",
       " ('A_6', 'T_5'): 5,\n",
       " ('A_0', 'T_6'): 13,\n",
       " ('A_1', 'T_6'): 7,\n",
       " ('A_2', 'T_6'): 5,\n",
       " ('A_3', 'T_6'): 10,\n",
       " ('A_4', 'T_6'): 7,\n",
       " ('A_5', 'T_6'): 7,\n",
       " ('A_6', 'T_6'): 32}"
      ]
     },
     "execution_count": 4,
     "metadata": {},
     "output_type": "execute_result"
    }
   ],
   "source": [
    "agents, tasks, costs = get_cost_matrix()\n",
    "costs"
   ]
  },
  {
   "cell_type": "markdown",
   "id": "f4304ad4-36a3-411d-b9f7-4a62b66fb903",
   "metadata": {},
   "source": [
    "Exhaustive examination of *all* permutations looking for an optimal solution."
   ]
  },
  {
   "cell_type": "code",
   "execution_count": 5,
   "id": "da6e807d-6e22-40d6-b19b-f85e5a411e2a",
   "metadata": {},
   "outputs": [],
   "source": [
    "from itertools import permutations\n",
    "\n",
    "def assignment(\n",
    "        agents: list[str], \n",
    "        tasks: list[str], \n",
    "        costs: dict[tuple[str, str], int]\n",
    ") -> list[tuple[str, ...]]:\n",
    "    perms = permutations(tasks)\n",
    "    alternative_costs = [\n",
    "        (\n",
    "            sum(\n",
    "                costs[agents[agent_index], task]  \n",
    "                for agent_index, task in enumerate(perm)\n",
    "            ),\n",
    "            perm\n",
    "        )\n",
    "        for perm in perms\n",
    "    ]\n",
    "    m = min(alternative_costs)[0]\n",
    "    return [ans for s, ans in alternative_costs if s == m]"
   ]
  },
  {
   "cell_type": "code",
   "execution_count": 6,
   "id": "75a57b0b-8ada-421a-818e-8e396ad9f223",
   "metadata": {},
   "outputs": [
    {
     "data": {
      "text/plain": [
       "[('T_2', 'T_4', 'T_6', 'T_1', 'T_5', 'T_3', 'T_0'),\n",
       " ('T_2', 'T_6', 'T_0', 'T_1', 'T_5', 'T_3', 'T_4')]"
      ]
     },
     "execution_count": 6,
     "metadata": {},
     "output_type": "execute_result"
    }
   ],
   "source": [
    "optimal = assignment(agents, tasks, costs)\n",
    "optimal"
   ]
  },
  {
   "cell_type": "markdown",
   "id": "885f16b9-a1b7-4117-9d38-e1c6e4f0cec6",
   "metadata": {},
   "source": [
    "From worked example, expected to see the following task assignments (2, 4, 6, 1, 5, 3, 0)."
   ]
  },
  {
   "cell_type": "markdown",
   "id": "94c9cd5b-5277-49e4-b7a3-c30e0fabb728",
   "metadata": {},
   "source": [
    "LaTeX table content"
   ]
  },
  {
   "cell_type": "code",
   "execution_count": 7,
   "id": "3536a68f-10f8-4f9f-bbfd-b34f9e9334a2",
   "metadata": {},
   "outputs": [
    {
     "name": "stdout",
     "output_type": "stream",
     "text": [
      "Task & $A_0$ & $A_1$ & $A_2$ & $A_3$ & $A_4$ & $A_5$ & $A_6$ \\\\\n",
      "\\hline\\hline\n",
      "$T_0$ & 14 & 11 & 6 & 20 & 12 & 9 & 4 \\\\\n",
      "\\hline\n",
      "$T_1$ & 15 & 28 & 34 & 4 & 12 & 24 & 21 \\\\\n",
      "\\hline\n",
      "$T_2$ & 16 & 31 & 22 & 18 & 31 & 15 & 23 \\\\\n",
      "\\hline\n",
      "$T_3$ & 20 & 18 & 9 & 15 & 30 & 4 & 18 \\\\\n",
      "\\hline\n",
      "$T_4$ & 24 & 8 & 24 & 30 & 28 & 25 & 4 \\\\\n",
      "\\hline\n",
      "$T_5$ & 3 & 23 & 22 & 11 & 5 & 30 & 5 \\\\\n",
      "\\hline\n",
      "$T_6$ & 13 & 7 & 5 & 10 & 7 & 7 & 32 \\\\\n",
      "\\hline\n"
     ]
    }
   ],
   "source": [
    "\"\"\"Task & $A_0$ & $A_1$ & $A_2$ & $A_3$ & $A_4$ & $A_5$\\\\ \n",
    " \\hline\\hline\n",
    " $T_0$ & 14 & 11 & 6 & 20 & 9 & 12 \\\\ \n",
    " \\hline\n",
    " $T_1$ & 15 & 28 & 34 & 4 & 12 & 9 \\\\\n",
    " \\hline\n",
    " $T_2$ & 16 & 31 & 22 & \\textit{etc.} \\\\\n",
    " \\hline\n",
    " $T_3$ & 20 & 18 & 9 \\\\\n",
    " \\hline\n",
    " $T_4$ & 24 & 8 & 24 \\\\\n",
    " \"\"\"\n",
    "print(\"Task &\", \" & \".join(f\"${a}$\" for a in agents), \"\\\\\\\\\")\n",
    "print(\"\\\\hline\\\\hline\")\n",
    "for task in tasks:\n",
    "    print(f\"${task}$ &\", \" & \".join(f\"{costs[agent,task]}\" for agent in agents), \"\\\\\\\\\")\n",
    "    print(\"\\\\hline\")"
   ]
  },
  {
   "cell_type": "code",
   "execution_count": 8,
   "id": "bdd8057f-92d6-4230-9ab5-8ed33a0b73aa",
   "metadata": {},
   "outputs": [
    {
     "name": "stdout",
     "output_type": "stream",
     "text": [
      "$A_0$ & $T_2$ \\\\\n",
      "\\hline\n",
      "$A_1$ & $T_4$ \\\\\n",
      "\\hline\n",
      "$A_2$ & $T_6$ \\\\\n",
      "\\hline\n",
      "$A_3$ & $T_1$ \\\\\n",
      "\\hline\n",
      "$A_4$ & $T_5$ \\\\\n",
      "\\hline\n",
      "$A_5$ & $T_3$ \\\\\n",
      "\\hline\n",
      "$A_6$ & $T_0$ \\\\\n",
      "\\hline\n"
     ]
    }
   ],
   "source": [
    "for agent_index, task in enumerate(optimal[0]):\n",
    "    print(f\"${agents[agent_index]}$ & ${task}$\" \" \\\\\\\\\")\n",
    "    print(\"\\\\hline\")"
   ]
  },
  {
   "cell_type": "code",
   "execution_count": null,
   "id": "0ce433a5-b94d-446c-9fee-28ffc2ed8230",
   "metadata": {},
   "outputs": [],
   "source": []
  }
 ],
 "metadata": {
  "kernelspec": {
   "display_name": "Python 3 (ipykernel)",
   "language": "python",
   "name": "python3"
  },
  "language_info": {
   "codemirror_mode": {
    "name": "ipython",
    "version": 3
   },
   "file_extension": ".py",
   "mimetype": "text/x-python",
   "name": "python",
   "nbconvert_exporter": "python",
   "pygments_lexer": "ipython3",
   "version": "3.10.5"
  }
 },
 "nbformat": 4,
 "nbformat_minor": 5
}
